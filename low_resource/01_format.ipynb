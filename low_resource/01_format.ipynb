{
 "cells": [
  {
   "cell_type": "markdown",
   "metadata": {},
   "source": [
    "##### We need to get our previously processed data into the right format for the low resource scenario"
   ]
  },
  {
   "cell_type": "code",
   "execution_count": 1,
   "metadata": {},
   "outputs": [],
   "source": [
    "import pandas as pd\n",
    "import numpy as np\n",
    "import os\n",
    "from pathlib import Path"
   ]
  },
  {
   "cell_type": "code",
   "execution_count": 2,
   "metadata": {},
   "outputs": [],
   "source": [
    "DATA = Path('../data/preprocessed')\n",
    "LOW_RESOURCE=DATA/'low_resource'\n",
    "LOW_RESOURCE.mkdir(parents=True, exist_ok=True)"
   ]
  },
  {
   "cell_type": "markdown",
   "metadata": {},
   "source": [
    "We don't need to change the test and validation files so we can just copy them across"
   ]
  },
  {
   "cell_type": "code",
   "execution_count": 3,
   "metadata": {},
   "outputs": [],
   "source": [
    "!cp ../data/preprocessed/ref_test.tsv ../data/preprocessed/low_resource/\n",
    "!cp ../data/preprocessed/ref_val.tsv ../data/preprocessed/low_resource/\n",
    "!cp ../data/preprocessed/src-test.txt ../data/preprocessed/low_resource/\n",
    "!cp ../data/preprocessed/src-val.txt ../data/preprocessed/low_resource/\n",
    "!cp ../data/preprocessed/tgt-test.txt ../data/preprocessed/low_resource/\n",
    "!cp ../data/preprocessed/tgt-val.txt ../data/preprocessed/low_resource/"
   ]
  },
  {
   "cell_type": "markdown",
   "metadata": {},
   "source": [
    "However, we will have to reduce the size of the train dataset to ~2m words in accordance with Wikitext2. Since our models cannot process more than 512 words per sample, we can simply divide 2m by 512 to get an approximate number of samples"
   ]
  },
  {
   "cell_type": "markdown",
   "metadata": {},
   "source": [
    "Wikitext2 is actually 2,088,628 words to be exact"
   ]
  },
  {
   "cell_type": "code",
   "execution_count": 5,
   "metadata": {},
   "outputs": [
    {
     "data": {
      "text/plain": [
       "4079.3515625"
      ]
     },
     "execution_count": 5,
     "metadata": {},
     "output_type": "execute_result"
    }
   ],
   "source": [
    "2088628/512"
   ]
  },
  {
   "cell_type": "markdown",
   "metadata": {},
   "source": [
    "For simplicity let's round this to the first 4000 samples:"
   ]
  },
  {
   "cell_type": "code",
   "execution_count": 7,
   "metadata": {},
   "outputs": [],
   "source": [
    "!head -4000 ../data/preprocessed/ref_train.tsv > ../data/preprocessed/low_resource/ref_train.tsv \n",
    "!head -4000 ../data/preprocessed/src-train.txt > ../data/preprocessed/low_resource/src-train.txt \n",
    "!head -4000 ../data/preprocessed/tgt-train.txt > ../data/preprocessed/low_resource/tgt-train.txt "
   ]
  }
 ],
 "metadata": {
  "kernelspec": {
   "display_name": "Python 3",
   "language": "python",
   "name": "python3"
  },
  "language_info": {
   "codemirror_mode": {
    "name": "ipython",
    "version": 3
   },
   "file_extension": ".py",
   "mimetype": "text/x-python",
   "name": "python",
   "nbconvert_exporter": "python",
   "pygments_lexer": "ipython3",
   "version": "3.7.3"
  }
 },
 "nbformat": 4,
 "nbformat_minor": 2
}
