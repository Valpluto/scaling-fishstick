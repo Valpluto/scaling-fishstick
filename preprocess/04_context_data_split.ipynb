{
 "cells": [
  {
   "cell_type": "markdown",
   "metadata": {},
   "source": [
    "# Context data split"
   ]
  },
  {
   "cell_type": "markdown",
   "metadata": {},
   "source": [
    "In this notebook, we will be generating different permutations of the context data for the source files we created in the previous notebook"
   ]
  },
  {
   "cell_type": "code",
   "execution_count": 1,
   "metadata": {
    "ExecuteTime": {
     "end_time": "2024-02-16T14:13:45.396405907Z",
     "start_time": "2024-02-16T14:13:45.396090864Z"
    }
   },
   "outputs": [],
   "source": [
    "import re\n",
    "import string\n",
    "import os"
   ]
  },
  {
   "cell_type": "code",
   "execution_count": 13,
   "metadata": {
    "ExecuteTime": {
     "end_time": "2024-02-16T14:38:10.395165720Z",
     "start_time": "2024-02-16T14:38:10.389794615Z"
    }
   },
   "outputs": [],
   "source": [
    "def context_data_split(filename, dataset_split):\n",
    "\n",
    "    directory = \"../data/preprocessed/\"\n",
    "    \n",
    "    f_h = open(directory + \"src-\" + dataset_split + \"-h.txt\",\"w+\")\n",
    "    f_h_gae = open(directory + \"src-\" + dataset_split + \"-h-gae.txt\",\"w+\")\n",
    "    f_h_gae_d = open(directory + \"src-\" + dataset_split + \"-h-gae-d.txt\",\"w+\")\n",
    "    f_h_gae_p = open(directory + \"src-\" + dataset_split + \"-h-gae-p.txt\",\"w+\")\n",
    "    f_h_gae_d_p = open(directory + \"src-\" + dataset_split + \"-h-gae-d-p.txt\",\"w+\")\n",
    "    f_h_gae_d_p_m = open(directory + \"src-\" + dataset_split + \"-h-gae-d-p-m.txt\",\"w+\")\n",
    "    f_h_gae_d_p_m_t = open(directory + \"src-\" + dataset_split + \"-h-gae-d-p-m-t.txt\",\"w+\")\n",
    "    f_h_gae_d_p_m_l = open(directory + \"src-\" + dataset_split + \"-h-gae-d-p-m-l.txt\",\"w+\")\n",
    "    \n",
    "    f = open(filename,'r')\n",
    "    line = f.readline()\n",
    "\n",
    "    while line:\n",
    "        context = re.split(r' <H> | <G> | <A> | <E> | <D> | <P> | <M> | <T> | <L>', line)\n",
    "\n",
    "        hint = context[0] + \" <H> \"\n",
    "        demographic = context[1] + \" <G> \" + context[2] + \" <A> \" + context[3] + \" <E> \"\n",
    "        diagnosis_list = context[4] + \" <D> \"\n",
    "        procedure_list = context[5] + \" <P> \"\n",
    "        med_list = context[6] + \" <M> \"\n",
    "        microbio_list = context[7] + \" <T> \"\n",
    "        lab_list = context[8] + \" <L>\"\n",
    "\n",
    "        H = hint + \"\\n\"\n",
    "        H_GAE = hint + demographic + \"\\n\"\n",
    "        H_GAE_D = hint + demographic + diagnosis_list + \"\\n\"\n",
    "        H_GAE_P = hint + demographic + diagnosis_list + procedure_list + \"\\n\"\n",
    "        H_GAE_D_P = hint + demographic + diagnosis_list + procedure_list + \"\\n\"\n",
    "        H_GAE_D_P_M = hint + demographic + diagnosis_list + procedure_list + med_list + \"\\n\"\n",
    "        H_GAE_D_P_M_T = hint + demographic + diagnosis_list + procedure_list + med_list + microbio_list + \"\\n\"\n",
    "        H_GAE_D_P_M_L = hint + demographic + diagnosis_list + procedure_list + med_list + lab_list + \"\\n\"\n",
    "\n",
    "        f_h.write(H)\n",
    "        f_h_gae.write(H_GAE)\n",
    "        f_h_gae_d.write(H_GAE_D)\n",
    "        f_h_gae_p.write(H_GAE_P)\n",
    "        f_h_gae_d_p.write(H_GAE_D_P)\n",
    "        f_h_gae_d_p_m.write(H_GAE_D_P_M)\n",
    "        f_h_gae_d_p_m_t.write(H_GAE_D_P_M_T)\n",
    "        f_h_gae_d_p_m_l.write(H_GAE_D_P_M_L)\n",
    "\n",
    "        line = f.readline()\n",
    "    \n",
    "    f_h.close()\n",
    "    f_h_gae.close()\n",
    "    f_h_gae_d.close()\n",
    "    f_h_gae_p.close()\n",
    "    f_h_gae_d_p.close()\n",
    "    f_h_gae_d_p_m.close()\n",
    "    f_h_gae_d_p_m_t.close()\n",
    "    f_h_gae_d_p_m_l.close()\n",
    "\n",
    "    f.close()\n",
    "    \n",
    "    return"
   ]
  },
  {
   "cell_type": "code",
   "execution_count": 14,
   "metadata": {
    "ExecuteTime": {
     "end_time": "2024-02-16T14:38:13.134655655Z",
     "start_time": "2024-02-16T14:38:11.562779765Z"
    }
   },
   "outputs": [
    {
     "name": "stdout",
     "output_type": "stream",
     "text": [
      "splitting training data...\n",
      "splitting evaluation data...\n",
      "splitting test data...\n"
     ]
    }
   ],
   "source": [
    "print (\"splitting training data...\")\n",
    "#context_data_split(\"../data/preprocessed/src-train.txt\",\"train\")\n",
    "context_data_split(\"../data/src-train.txt\",\"train\")\n",
    "\n",
    "print (\"splitting evaluation data...\")\n",
    "#context_data_split(\"../data/preprocessed/src-val.txt\",\"val\")\n",
    "context_data_split(\"../data/src-val.txt\",\"val\")\n",
    "\n",
    "print (\"splitting test data...\")\n",
    "#context_data_split(\"../data/preprocessed/src-test.txt\",\"test\")\n",
    "context_data_split(\"../data/src-test.txt\",\"test\")"
   ]
  },
  {
   "cell_type": "markdown",
   "metadata": {},
   "source": [
    "Verify that all files have the same number of lines and that the word/character counts are in line with expectation:"
   ]
  },
  {
   "cell_type": "code",
   "execution_count": 16,
   "metadata": {
    "ExecuteTime": {
     "end_time": "2024-02-16T14:38:26.338000164Z",
     "start_time": "2024-02-16T14:38:20.804959961Z"
    }
   },
   "outputs": [
    {
     "name": "stdout",
     "output_type": "stream",
     "text": [
      "/home/tristan/Documents/mimic-text-generation/data/preprocessed\n",
      "     48921  115295752  591845847 ref_test.tsv\r\n",
      "      6479    9853748   50950861 ref_train.tsv\r\n",
      "         7       2798      14342 ref_val.tsv\r\n",
      "     48920   22651926  110636049 src-test-h-gae-d-p-m-l.txt\r\n",
      "     48920    7911878   49861032 src-test-h-gae-d-p-m-t.txt\r\n",
      "     48920    7577925   48220647 src-test-h-gae-d-p-m.txt\r\n",
      "     48920    5485231   37239410 src-test-h-gae-d-p.txt\r\n",
      "     48920    4548967   30546323 src-test-h-gae-d.txt\r\n",
      "     48920    5485231   37239410 src-test-h-gae-p.txt\r\n",
      "     48920     831640    3788096 src-test-h-gae.txt\r\n",
      "     48920     538120    2657740 src-test-h.txt\r\n",
      "      6478    2385797   11492385 src-train-h-gae-d-p-m-l.txt\r\n",
      "      6478     776442    4872016 src-train-h-gae-d-p-m-t.txt\r\n",
      "      6478     769964    4839626 src-train-h-gae-d-p-m.txt\r\n",
      "      6478     545618    3659005 src-train-h-gae-d-p.txt\r\n",
      "      6478     405327    2655036 src-train-h-gae-d.txt\r\n",
      "      6478     545618    3659005 src-train-h-gae-p.txt\r\n",
      "      6478     110126     503452 src-train-h-gae.txt\r\n",
      "      6478      71258     353954 src-train-h.txt\r\n",
      "         6        338       1937 src-val-h-gae-d-p-m-l.txt\r\n",
      "         6        265       1609 src-val-h-gae-d-p-m-t.txt\r\n",
      "         6        259       1579 src-val-h-gae-d-p-m.txt\r\n",
      "         6        253       1549 src-val-h-gae-d-p.txt\r\n",
      "         6        238       1437 src-val-h-gae-d.txt\r\n",
      "         6        253       1549 src-val-h-gae-p.txt\r\n",
      "         6        102        445 src-val-h-gae.txt\r\n",
      "         6         66        307 src-val-h.txt\r\n",
      "     48920  114071419  584199232 tgt-test.txt\r\n",
      "      6478    9686943   49896892 tgt-train.txt\r\n",
      "         6       2640      13348 tgt-val.txt\r\n",
      "    554043  309556142 1629154120 total\r\n"
     ]
    }
   ],
   "source": [
    "%cd ../data/preprocessed/\n",
    "!wc -mlw *"
   ]
  }
 ],
 "metadata": {
  "kernelspec": {
   "display_name": "Python 3",
   "language": "python",
   "name": "python3"
  },
  "language_info": {
   "codemirror_mode": {
    "name": "ipython",
    "version": 3
   },
   "file_extension": ".py",
   "mimetype": "text/x-python",
   "name": "python",
   "nbconvert_exporter": "python",
   "pygments_lexer": "ipython3",
   "version": "3.7.3"
  }
 },
 "nbformat": 4,
 "nbformat_minor": 2
}
