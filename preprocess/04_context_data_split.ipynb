{
 "cells": [
  {
   "cell_type": "markdown",
   "metadata": {},
   "source": [
    "# Context data split"
   ]
  },
  {
   "cell_type": "markdown",
   "metadata": {},
   "source": [
    "In this notebook, we will be generating different permutations of the context data for the source files we created in the previous notebook"
   ]
  },
  {
   "cell_type": "code",
   "execution_count": 1,
   "metadata": {},
   "outputs": [],
   "source": [
    "import re\n",
    "import string\n",
    "import os"
   ]
  },
  {
   "cell_type": "code",
   "execution_count": 2,
   "metadata": {},
   "outputs": [],
   "source": [
    "def context_data_split(filename, dataset_split):\n",
    "\n",
    "    directory = \"../data/preprocessed/other_contexts/\"\n",
    "    \n",
    "    f_h = open(directory + \"src-\" + dataset_split + \"-h.txt\",\"w+\")\n",
    "    f_h_gae = open(directory + \"src-\" + dataset_split + \"-h-gae.txt\",\"w+\")\n",
    "    f_h_gae_d = open(directory + \"src-\" + dataset_split + \"-h-gae-d.txt\",\"w+\")\n",
    "    f_h_gae_p = open(directory + \"src-\" + dataset_split + \"-h-gae-p.txt\",\"w+\")\n",
    "    f_h_gae_d_p = open(directory + \"src-\" + dataset_split + \"-h-gae-d-p.txt\",\"w+\")\n",
    "    f_h_gae_d_p_m = open(directory + \"src-\" + dataset_split + \"-h-gae-d-p-m.txt\",\"w+\")\n",
    "    f_h_gae_d_p_m_t = open(directory + \"src-\" + dataset_split + \"-h-gae-d-p-m-t.txt\",\"w+\")\n",
    "    f_h_gae_d_p_m_l = open(directory + \"src-\" + dataset_split + \"-h-gae-d-p-m-l.txt\",\"w+\")\n",
    "    \n",
    "    f = open(filename,'r')\n",
    "    line = f.readline()\n",
    "\n",
    "    while line:\n",
    "        context = re.split(r' <H> | <G> | <A> | <E> | <D> | <P> | <M> | <T> | <L>', line)\n",
    "\n",
    "        hint = context[0] + \" <H> \"\n",
    "        demographic = context[1] + \" <G> \" + context[2] + \" <A> \" + context[3] + \" <E> \"\n",
    "        diagnosis_list = context[4] + \" <D> \"\n",
    "        procedure_list = context[5] + \" <P> \"\n",
    "        med_list = context[6] + \" <M> \"\n",
    "        microbio_list = context[7] + \" <T> \"\n",
    "        lab_list = context[8] + \" <L>\"\n",
    "\n",
    "        H = hint + \"\\n\"\n",
    "        H_GAE = hint + demographic + \"\\n\"\n",
    "        H_GAE_D = hint + demographic + diagnosis_list + \"\\n\"\n",
    "        H_GAE_P = hint + demographic + diagnosis_list + procedure_list + \"\\n\"\n",
    "        H_GAE_D_P = hint + demographic + diagnosis_list + procedure_list + \"\\n\"\n",
    "        H_GAE_D_P_M = hint + demographic + diagnosis_list + procedure_list + med_list + \"\\n\"\n",
    "        H_GAE_D_P_M_T = hint + demographic + diagnosis_list + procedure_list + med_list + microbio_list + \"\\n\"\n",
    "        H_GAE_D_P_M_L = hint + demographic + diagnosis_list + procedure_list + med_list + lab_list + \"\\n\"\n",
    "\n",
    "        f_h.write(H)\n",
    "        f_h_gae.write(H_GAE)\n",
    "        f_h_gae_d.write(H_GAE_D)\n",
    "        f_h_gae_p.write(H_GAE_P)\n",
    "        f_h_gae_d_p.write(H_GAE_D_P)\n",
    "        f_h_gae_d_p_m.write(H_GAE_D_P_M)\n",
    "        f_h_gae_d_p_m_t.write(H_GAE_D_P_M_T)\n",
    "        f_h_gae_d_p_m_l.write(H_GAE_D_P_M_L)\n",
    "\n",
    "        line = f.readline()\n",
    "    \n",
    "    f_h.close()\n",
    "    f_h_gae.close()\n",
    "    f_h_gae_d.close()\n",
    "    f_h_gae_p.close()\n",
    "    f_h_gae_d_p.close()\n",
    "    f_h_gae_d_p_m.close()\n",
    "    f_h_gae_d_p_m_t.close()\n",
    "    f_h_gae_d_p_m_l.close()\n",
    "\n",
    "    f.close()\n",
    "    \n",
    "    return"
   ]
  },
  {
   "cell_type": "code",
   "execution_count": 3,
   "metadata": {},
   "outputs": [
    {
     "name": "stdout",
     "output_type": "stream",
     "text": [
      "splitting training data...\n",
      "splitting evaluation data...\n",
      "splitting test data...\n"
     ]
    }
   ],
   "source": [
    "print (\"splitting training data...\")\n",
    "context_data_split(\"../data/preprocessed/src-train.txt\",\"train\")\n",
    "\n",
    "print (\"splitting evaluation data...\")\n",
    "context_data_split(\"../data/preprocessed/src-val.txt\",\"val\")\n",
    "\n",
    "print (\"splitting test data...\")\n",
    "context_data_split(\"../data/preprocessed/src-test.txt\",\"test\")"
   ]
  },
  {
   "cell_type": "markdown",
   "metadata": {},
   "source": [
    "Verify that all files have the same number of lines and that the word/character counts are in line with expectation:"
   ]
  },
  {
   "cell_type": "code",
   "execution_count": 4,
   "metadata": {},
   "outputs": [
    {
     "name": "stdout",
     "output_type": "stream",
     "text": [
      "/mimic/data/preprocessed/other_contexts\n",
      "     5727   2571310  12500237 src-test-h-gae-d-p-m-l.txt\n",
      "     5727    878941   5527487 src-test-h-gae-d-p-m-t.txt\n",
      "     5727    841031   5339036 src-test-h-gae-d-p-m.txt\n",
      "     5727    613073   4146137 src-test-h-gae-d-p.txt\n",
      "     5727    553588   3724383 src-test-h-gae-d.txt\n",
      "     5727    613073   4146137 src-test-h-gae-p.txt\n",
      "     5727     97359    442100 src-test-h-gae.txt\n",
      "     5727     62997    309842 src-test-h.txt\n",
      "    44230  19997807  97595528 src-train-h-gae-d-p-m-l.txt\n",
      "    44230   6958046  43839444 src-train-h-gae-d-p-m-t.txt\n",
      "    44230   6689483  42521849 src-train-h-gae-d-p-m.txt\n",
      "    44230   4827069  32745113 src-train-h-gae-d-p.txt\n",
      "    44230   3920392  26260356 src-train-h-gae-d.txt\n",
      "    44230   4827069  32745113 src-train-h-gae-p.txt\n",
      "    44230    751910   3427563 src-train-h-gae.txt\n",
      "    44230    486530   2405680 src-train-h.txt\n",
      "     5447   2468944  12034600 src-val-h-gae-d-p-m-l.txt\n",
      "     5447    851598   5367720 src-val-h-gae-d-p-m-t.txt\n",
      "     5447    817634   5200961 src-val-h-gae-d-p-m.txt\n",
      "     5447    590960   4008708 src-val-h-gae-d-p.txt\n",
      "     5447    480552   3218051 src-val-h-gae-d.txt\n",
      "     5447    590960   4008708 src-val-h-gae-p.txt\n",
      "     5447     92599    422324 src-val-h-gae.txt\n",
      "     5447     59917    296473 src-val-h.txt\n",
      "   443232  60642842 352233550 total\n"
     ]
    }
   ],
   "source": [
    "%cd ../data/preprocessed/other_contexts/\n",
    "!wc -mlw *"
   ]
  }
 ],
 "metadata": {
  "kernelspec": {
   "display_name": "Python 3",
   "language": "python",
   "name": "python3"
  },
  "language_info": {
   "codemirror_mode": {
    "name": "ipython",
    "version": 3
   },
   "file_extension": ".py",
   "mimetype": "text/x-python",
   "name": "python",
   "nbconvert_exporter": "python",
   "pygments_lexer": "ipython3",
   "version": "3.7.3"
  }
 },
 "nbformat": 4,
 "nbformat_minor": 2
}
