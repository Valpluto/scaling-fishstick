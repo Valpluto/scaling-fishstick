{
 "cells": [
  {
   "cell_type": "markdown",
   "metadata": {},
   "source": [
    "# Preprocess"
   ]
  },
  {
   "cell_type": "code",
   "execution_count": 1,
   "metadata": {},
   "outputs": [],
   "source": [
    "import pandas as pd\n",
    "import numpy as np\n",
    "import os\n",
    "from pathlib import Path"
   ]
  },
  {
   "cell_type": "code",
   "execution_count": 2,
   "metadata": {},
   "outputs": [],
   "source": [
    "low_resource=True # change as appropriate\n",
    "\n",
    "if low_resource == True:\n",
    "    DATA = Path('../data/preprocessed/low_resource/')\n",
    "    MODEL = Path('../data/transformer-xl/low_resource')\n",
    "else:\n",
    "    DATA = Path('../data/preprocessed/')\n",
    "    MODEL = Path('../data/transformer-xl')\n",
    "    \n",
    "MODEL.mkdir(parents=True, exist_ok=True)"
   ]
  },
  {
   "cell_type": "markdown",
   "metadata": {},
   "source": [
    "### Training set"
   ]
  },
  {
   "cell_type": "code",
   "execution_count": 3,
   "metadata": {},
   "outputs": [],
   "source": [
    "with open(DATA/'src-train.txt', 'r') as f:\n",
    "    train_src = f.readlines()\n",
    "train_src=pd.DataFrame({'text':train_src})"
   ]
  },
  {
   "cell_type": "code",
   "execution_count": 4,
   "metadata": {},
   "outputs": [],
   "source": [
    "with open(DATA/'tgt-train.txt', 'r') as f:\n",
    "    train_tgt = f.readlines()\n",
    "train_tgt=pd.DataFrame({'text':train_tgt})"
   ]
  },
  {
   "cell_type": "code",
   "execution_count": 5,
   "metadata": {},
   "outputs": [],
   "source": [
    "for i, row in train_src.iterrows():\n",
    "    src = row['text'][:-1]\n",
    "    src = src.split()[:512]\n",
    "    src_len = len(src)\n",
    "    tgt_len = 1024 - src_len # cap sequence at 1024 tokens in length\n",
    "    tgt = train_tgt['text'][i]\n",
    "    tgt = tgt.split()[:tgt_len]\n",
    "    combined = \"= discharge summary = \" + '\\n' + \" \".join(src) + '\\n' + \"= = note = =\" + '\\n' + \" \".join(tgt)\n",
    "    row['text'] = combined"
   ]
  },
  {
   "cell_type": "code",
   "execution_count": 6,
   "metadata": {},
   "outputs": [
    {
     "data": {
      "text/plain": [
       "'= discharge summary = \\nadmission date : [ 2134/9/1 ] [ month / day <H> M <G> 47 <A> black <E> acute respiratory failure | acute diastolic heart failure | atrial flutter | obesity hypoventilation syndrome | obstructive sleep apnea (adult)(pediatric) | unspecified schizophrenia, unspecified | bipolar disorder, unspecified | obesity, unspecified | pure hypercholesterolemia | diabetes mellitus without mention of complication, type ii or unspecified type, not stated as uncontrolled | congestive heart failure, unspecified | atrial fibrillation | polycythemia vera <D> <P> furosemide , 40mg Tablet | docusate sodium , 100mg Capsule | furosemide , 100mg/10mL Vial <M> <T> Creatine Kinase, MB Isoenzyme , 1 , ng/mL | Urea Nitrogen , 17 , mg/dL | Chloride , 92 , mEq/L , abnormal | Calcium, Total , 8.5 , mg/dL | Bicarbonate , 40 , mEq/L , abnormal | Anion Gap , 12 , mEq/L | Phosphate , 3.6 , mg/dL | Potassium , 3.9 , mEq/L | Sodium , 140 , mEq/L | Hematocrit , 46.6 , % | Creatinine , 0.7 , mg/dL | Hemoglobin , 14.6 , g/dL | MCH , 27.8 , pg | MCHC , 31.4 , % | MCV , 88 , fL | Platelet Count , 198 , K/uL | RDW , 14.8 , % | Red Blood Cells , 5.27 , m/uL | Creatine Kinase (CK) , 44 , IU/L , abnormal | White Blood Cells , 7.7 , K/uL | Glucose , 115 , mg/dL , abnormal | Magnesium , 1.8 , mg/dL | Urea Nitrogen , 15 , mg/dL | Calcium, Total , 8.4 , mg/dL | Chloride , 92 , mEq/L , abnormal | Creatinine , 0.9 , mg/dL | Glucose , 140 , mg/dL , abnormal | Magnesium , 2.1 , mg/dL | Phosphate , 3.7 , mg/dL | Potassium , 4.2 , mEq/L | Sodium , 139 , mEq/L | Hematocrit , 45.5 , % | Bicarbonate , 42 , mEq/L , abnormal | Hemoglobin , 14.3 , g/dL | MCH , 28.9 , pg | Red Blood Cells , 4.97 , m/uL | White Blood Cells , 7.5 , K/uL | MCHC , 31.5 , % | MCV , 92 , fL | Platelet Count , 225 , K/uL | RDW , 15.3 , % | Anion Gap , 9 , mEq/L <L>\\n= = note = =\\nadmission date : [ 2134/9/1 ] [ month / day / year ] date : [ 2134/9/6 ] <PAR> <PAR> date of birth : [ 2087/8/23 ] sex : m <PAR> <PAR> service : medicine <PAR> <PAR> allergies : <PAR> no known allergies / adverse drug reactions <PAR> <PAR> attending : [ first name3 ( lf ) 11040 ] <PAR> chief complaint : <PAR> shortness of breath and hypoxia <PAR> <PAR> <PAR> major surgical or invasive procedure : <PAR> none <PAR> <PAR> <PAR> history of present illness : <PAR> mr [ known lastname 732 ] is a 47 year old male with h / o schizophrenia / bipolar <PAR> disorder , obesity , hypercholesterolemia , and severe complex <PAR> sleep disordered who comes in to from reab facility with <PAR> increase in sob and hypoxia pt has been on rehab , [ location ( un ) 669 ] west <PAR> since [ month ( only ) 958 ] of this year for his osa since he lived in a group <PAR> home and was unable to care for himself as per nursing staff at <PAR> the facility , he has been having increase in sob and hypoxia for <PAR> the last 2 weeks for which he was tx with lasix with some <PAR> improvement he had a recent 3 lbs wt gain in the last few days <PAR> he is also non - compliment with his diet and tends to drink \" a lot <PAR> of soda \" he is on lasix 80 mg [ hospital1 ] , however there is no listing <PAR> of him having chf he denies missing any of his meds he states <PAR> that he had increse in sob today and his o2sat was 70s% on ra <PAR> and ems was called he denies having any fever , chills , sweats , <PAR> or cough , or le edema he sleep with \" pillows \" he was then <PAR> brought to the ed for further eval <PAR> <PAR> in the ed , initial vs were : hr 80 , 140/90 , 25 , 88 - 93 % on bipap <PAR> probnp : 2129 , wbc was 10.2 ( n : 74 band : 0 l : 10 m : 15 e : 1 <PAR> bas : 0 ) , trop - t : < 0.01 ua negative he had cxray which as per ed <PAR> report states continued evidence of left - sided pneumonia as well <PAR> as diffuse interstitial edema he was given vanco , cefepime and <PAR> azithromycin for the concern of pneumonia he also had a cta <PAR> which did not show a pe or other acute lung process he was then <PAR> given 80 mg of iv lasix which he responded well with 900cc of <PAR> urine output in the ed and 300cc on arrival to the floor <PAR> <PAR> on arrival to the floor pt appears comfortable was sating at <PAR> 100 % on a non - rebreather he denies having any complains of pain <PAR> or sob he states to feel \" much better \" than before <PAR> <PAR> as per his [ hospital1 1501 ] , he did not have any recent pneumonia , infection <PAR> or complains of chest pain he was planning to see a <PAR> cardiologist for concern of chf <PAR> <PAR> <PAR> past medical history : <PAR> psychiatric history <PAR> - reports history of bipolar disorder / schizophrenia diagnosed <PAR> when he was 17 <PAR> - two hosptialization at [ first name5 ( namepattern1 ) 745 ] [ last name ( namepattern1 ) ] and [ last name ( lf ) 42339 ] , [ first name3 ( lf ) ] <PAR> mother , last [ name2 ( ni ) 103301 ] was 5 years ago sees [ name2 ( ni ) 2447 ]'"
      ]
     },
     "execution_count": 6,
     "metadata": {},
     "output_type": "execute_result"
    }
   ],
   "source": [
    "train_src['text'][10]"
   ]
  },
  {
   "cell_type": "code",
   "execution_count": 7,
   "metadata": {},
   "outputs": [],
   "source": [
    "np.savetxt(MODEL/'input-text.txt', train_src, fmt='%s', newline=os.linesep)"
   ]
  },
  {
   "cell_type": "markdown",
   "metadata": {},
   "source": [
    "### Validation set"
   ]
  },
  {
   "cell_type": "code",
   "execution_count": 8,
   "metadata": {},
   "outputs": [],
   "source": [
    "with open(DATA/'src-val.txt', 'r') as f:\n",
    "    val_src = f.readlines()\n",
    "val_src=pd.DataFrame({'text':val_src})"
   ]
  },
  {
   "cell_type": "code",
   "execution_count": 9,
   "metadata": {},
   "outputs": [],
   "source": [
    "with open(DATA/'tgt-val.txt', 'r') as f:\n",
    "    val_tgt = f.readlines()\n",
    "val_tgt=pd.DataFrame({'text':val_tgt})"
   ]
  },
  {
   "cell_type": "code",
   "execution_count": 10,
   "metadata": {},
   "outputs": [],
   "source": [
    "for i, row in val_src.iterrows():\n",
    "    src = row['text'][:-1]\n",
    "    src = src.split()[:512]\n",
    "    src_len = len(src)\n",
    "    tgt_len = 1024 - src_len\n",
    "    tgt = val_tgt['text'][i]\n",
    "    tgt = tgt.split()[:tgt_len]\n",
    "    combined = \"= discharge summary = \" + '\\n' + \" \".join(src) + '\\n' + \"= = note = =\" + '\\n' + \" \".join(tgt)\n",
    "    row['text'] = combined"
   ]
  },
  {
   "cell_type": "code",
   "execution_count": 11,
   "metadata": {},
   "outputs": [],
   "source": [
    "np.savetxt(MODEL/'val-input-text.txt', val_src, fmt='%s', newline=os.linesep)"
   ]
  },
  {
   "cell_type": "markdown",
   "metadata": {},
   "source": [
    "### Test set"
   ]
  },
  {
   "cell_type": "code",
   "execution_count": 12,
   "metadata": {},
   "outputs": [],
   "source": [
    "with open(DATA/'src-test.txt', 'r') as f:\n",
    "    test_src = f.readlines()\n",
    "test_src=pd.DataFrame({'text':test_src})"
   ]
  },
  {
   "cell_type": "code",
   "execution_count": 13,
   "metadata": {},
   "outputs": [],
   "source": [
    "for i, row in test_src.iterrows():\n",
    "    src = row['text'][:-1]\n",
    "    src = src.split()[:512]\n",
    "    src_len = len(src)\n",
    "    combined = \"= discharge summary = \" + '\\n' + \" \".join(src) + '\\n' + \"= = note = =\"\n",
    "    row['text'] = combined"
   ]
  },
  {
   "cell_type": "code",
   "execution_count": 14,
   "metadata": {},
   "outputs": [],
   "source": [
    "np.savetxt(MODEL/'test-input-text.txt', test_src, fmt='%s', newline=os.linesep)"
   ]
  }
 ],
 "metadata": {
  "kernelspec": {
   "display_name": "Python [conda env:tf]",
   "language": "python",
   "name": "conda-env-tf-py"
  },
  "language_info": {
   "codemirror_mode": {
    "name": "ipython",
    "version": 3
   },
   "file_extension": ".py",
   "mimetype": "text/x-python",
   "name": "python",
   "nbconvert_exporter": "python",
   "pygments_lexer": "ipython3",
   "version": "3.7.3"
  }
 },
 "nbformat": 4,
 "nbformat_minor": 2
}
